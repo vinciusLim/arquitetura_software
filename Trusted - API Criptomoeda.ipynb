{
	"cells": [
		{
			"cell_type": "markdown",
			"metadata": {
				"editable": true,
				"trusted": true
			},
			"source": [
				"# Notebook Trusted API Coingecko"
			]
		},
		{
			"cell_type": "code",
			"execution_count": 1,
			"metadata": {
				"editable": true,
				"trusted": true,
				"vscode": {
					"languageId": "python_glue_session"
				}
			},
			"outputs": [
				{
					"name": "stdout",
					"output_type": "stream",
					"text": [
						"Welcome to the Glue Interactive Sessions Kernel\n",
						"For more information on available magic commands, please type %help in any new cell.\n",
						"\n",
						"Please view our Getting Started page to access the most up-to-date information on the Interactive Sessions kernel: https://docs.aws.amazon.com/glue/latest/dg/interactive-sessions.html\n",
						"Installed kernel version: 1.0.8 \n",
						"Current idle_timeout is None minutes.\n",
						"idle_timeout has been set to 10 minutes.\n",
						"Setting Glue version to: 5.0\n",
						"Previous worker type: None\n",
						"Setting new worker type to: G.1X\n",
						"Previous number of workers: None\n",
						"Setting new number of workers to: 2\n",
						"Trying to create a Glue session for the kernel.\n",
						"Session Type: glueetl\n",
						"Worker Type: G.1X\n",
						"Number of Workers: 2\n",
						"Idle Timeout: 10\n",
						"Session ID: 7d8358e9-2a01-4a51-ad90-9efafabf7c96\n",
						"Applying the following default arguments:\n",
						"--glue_kernel_version 1.0.8\n",
						"--enable-glue-datacatalog true\n",
						"Waiting for session 7d8358e9-2a01-4a51-ad90-9efafabf7c96 to get into ready status...\n",
						"Session 7d8358e9-2a01-4a51-ad90-9efafabf7c96 has been created.\n",
						"\n"
					]
				}
			],
			"source": [
				"%idle_timeout 10\n",
				"%glue_version 5.0\n",
				"%worker_type G.1X\n",
				"%number_of_workers 2\n",
				"\n",
				"import sys\n",
				"from awsglue.transforms import *\n",
				"from awsglue.utils import getResolvedOptions\n",
				"from pyspark.context import SparkContext\n",
				"from awsglue.context import GlueContext\n",
				"from awsglue.job import Job\n",
				"from datetime import datetime\n",
				"from pyspark.sql.functions import col, lit\n",
				"  \n",
				"sc = SparkContext.getOrCreate()\n",
				"glueContext = GlueContext(sc)\n",
				"spark = glueContext.spark_session\n",
				"job = Job(glueContext)"
			]
		},
		{
			"cell_type": "code",
			"execution_count": 2,
			"metadata": {
				"tags": [],
				"trusted": true,
				"vscode": {
					"languageId": "python_glue_session"
				}
			},
			"outputs": [
				{
					"name": "stdout",
					"output_type": "stream",
					"text": [
						"\n"
					]
				}
			],
			"source": [
				"# Data atual UTC\n",
				"now = datetime.utcnow()\n",
				"\n",
				"# Caminho de leitura raw\n",
				"raw_path = f\"s3://arquitetura-software-datalake/raw/coingecko/{now.year}/{now.month:02d}/{now.day:02d}/{now.hour:02d}/\"\n",
				"\n",
				"# Leitura dos JSONs\n",
				"df = spark.read.option(\"multiLine\", True).json(raw_path)\n",
				"\n",
				"# Seleção e renomeação das colunas desejadas\n",
				"df_trusted = df.select(\n",
				"    col(\"id\").alias(\"ID_MOEDA\"),\n",
				"    col(\"symbol\").alias(\"SIMBOLO\"),\n",
				"    col(\"name\").alias(\"NOME\"),\n",
				"    col(\"current_price\").alias(\"PRECO_ATUAL\"),\n",
				"    col(\"market_cap\").alias(\"VALOR_MERCADO\"),\n",
				"    col(\"market_cap_rank\").alias(\"RANKING_MERCADO\"),\n",
				"    col(\"total_volume\").alias(\"VOLUME_TOTAL\"),\n",
				"    col(\"price_change_24h\").alias(\"VARIACAO_PRECO_24H\"),\n",
				"    col(\"price_change_percentage_24h\").alias(\"PERCENTUAL_VARIACAO_PRECO_24H\"),\n",
				"    col(\"circulating_supply\").alias(\"CIRCULACAO\"),\n",
				"    col(\"total_supply\").alias(\"FORNECIMENTO_TOTAL\"),\n",
				"    col(\"max_supply\").alias(\"FORNECIMENTO_MAXIMO\"),\n",
				"    col(\"ath\").alias(\"PRECO_MAXIMO_HISTORICO\"),\n",
				"    col(\"ath_date\").alias(\"DATA_MAXIMO_HISTORICO\"),\n",
				"    col(\"atl\").alias(\"PRECO_MINIMO_HISTORICO\"),\n",
				"    col(\"atl_date\").alias(\"DATA_MINIMO_HISTORICO\"),\n",
				"    col(\"ath_change_percentage\").alias(\"VARIACAO_DESDE_MAXIMO\"),\n",
				"    col(\"atl_change_percentage\").alias(\"VARIACAO_DESDE_MINIMO\"),\n",
				"    col(\"high_24h\").alias(\"PRECO_MAXIMO_24H\"),\n",
				"    col(\"low_24h\").alias(\"PRECO_MINIMO_24H\"),\n",
				"    col(\"market_cap_change_24h\").alias(\"VARIACAO_VALOR_MERCADO_24H\"),\n",
				"    col(\"market_cap_change_percentage_24h\").alias(\"PERCENTUAL_VARIACAO_VALOR_MERCADO_24H\"),\n",
				"    col(\"fully_diluted_valuation\").alias(\"VALOR_TOTAL_DILUIDO\"),\n",
				"    col(\"last_updated\").alias(\"ULTIMA_ATUALIZACAO\")\n",
				")\n",
				"\n",
				"# Adiciona a coluna DAT_CARGA no formato \"YYYY-MM-DD:HH\"\n",
				"dat_carga_str = now.strftime(\"%Y-%m-%d:%H\")\n",
				"df_trusted = df_trusted.withColumn(\"DAT_CARGA\", lit(dat_carga_str))\n",
				"\n",
				"# Caminho de destino trusted\n",
				"dest_path = f\"s3://arquitetura-software-datalake/trusted/coingecko/{now.year}/{now.month:02d}/{now.day:02d}/{now.hour:02d}/\"\n",
				"\n",
				"# Escreve no S3 com overwrite por pasta\n",
				"df_trusted.write.mode(\"overwrite\").parquet(dest_path)"
			]
		}
	],
	"metadata": {
		"kernelspec": {
			"display_name": "Glue PySpark",
			"language": "python",
			"name": "glue_pyspark"
		},
		"language_info": {
			"codemirror_mode": {
				"name": "python",
				"version": 3
			},
			"file_extension": ".py",
			"mimetype": "text/x-python",
			"name": "Python_Glue_Session",
			"pygments_lexer": "python3"
		}
	},
	"nbformat": 4,
	"nbformat_minor": 4
}
