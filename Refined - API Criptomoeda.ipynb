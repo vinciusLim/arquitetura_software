{
	"cells": [
		{
			"cell_type": "markdown",
			"metadata": {},
			"source": [
				"# Notebook Refined API Coingecko"
			]
		},
		{
			"cell_type": "code",
			"execution_count": 1,
			"metadata": {
				"editable": true,
				"trusted": true,
				"vscode": {
					"languageId": "python_glue_session"
				}
			},
			"outputs": [
				{
					"name": "stdout",
					"output_type": "stream",
					"text": [
						"Welcome to the Glue Interactive Sessions Kernel\n",
						"For more information on available magic commands, please type %help in any new cell.\n",
						"\n",
						"Please view our Getting Started page to access the most up-to-date information on the Interactive Sessions kernel: https://docs.aws.amazon.com/glue/latest/dg/interactive-sessions.html\n",
						"Installed kernel version: 1.0.8 \n",
						"Current idle_timeout is None minutes.\n",
						"idle_timeout has been set to 10 minutes.\n",
						"Setting Glue version to: 5.0\n",
						"Previous worker type: None\n",
						"Setting new worker type to: G.1X\n",
						"Previous number of workers: None\n",
						"Setting new number of workers to: 2\n",
						"Trying to create a Glue session for the kernel.\n",
						"Session Type: glueetl\n",
						"Worker Type: G.1X\n",
						"Number of Workers: 2\n",
						"Idle Timeout: 10\n",
						"Session ID: 5b12d592-3308-401f-8d89-c17b3467320c\n",
						"Applying the following default arguments:\n",
						"--glue_kernel_version 1.0.8\n",
						"--enable-glue-datacatalog true\n",
						"Waiting for session 5b12d592-3308-401f-8d89-c17b3467320c to get into ready status...\n",
						"Session 5b12d592-3308-401f-8d89-c17b3467320c has been created.\n",
						"\n"
					]
				}
			],
			"source": [
				"%idle_timeout 10\n",
				"%glue_version 5.0\n",
				"%worker_type G.1X\n",
				"%number_of_workers 2\n",
				"\n",
				"import sys\n",
				"from awsglue.transforms import *\n",
				"from awsglue.utils import getResolvedOptions\n",
				"from pyspark.context import SparkContext\n",
				"from awsglue.context import GlueContext\n",
				"from awsglue.job import Job\n",
				"from datetime import datetime\n",
				"from pyspark.sql.functions import col, concat_ws, format_string\n",
				"  \n",
				"sc = SparkContext.getOrCreate()\n",
				"glueContext = GlueContext(sc)\n",
				"spark = glueContext.spark_session\n",
				"job = Job(glueContext)"
			]
		},
		{
			"cell_type": "code",
			"execution_count": 3,
			"metadata": {
				"tags": [],
				"trusted": true,
				"vscode": {
					"languageId": "python_glue_session"
				}
			},
			"outputs": [
				{
					"name": "stdout",
					"output_type": "stream",
					"text": [
						"\n"
					]
				}
			],
			"source": [
				"# Data atual UTC\n",
				"now = datetime.utcnow()\n",
				"\n",
				"# Monta o path no formato ano/mes/dia\n",
				"trusted_path = f\"s3://arquitetura-software-datalake/trusted/coingecko/{now.year}/{now.month:02d}/{now.day:02d}/{now.hour:02d}/\"\n",
				"\n",
				"# Leitura dos JSONs\n",
				"df = spark.read.parquet(trusted_path)"
			]
		},
		{
			"cell_type": "markdown",
			"metadata": {},
			"source": [
				"# Criação fato_precos_moedas "
			]
		},
		{
			"cell_type": "code",
			"execution_count": 6,
			"metadata": {
				"tags": [],
				"trusted": true,
				"vscode": {
					"languageId": "python_glue_session"
				}
			},
			"outputs": [
				{
					"name": "stdout",
					"output_type": "stream",
					"text": [
						"\n"
					]
				}
			],
			"source": [
				"df_fato_precos = df.select(\n",
				"    col(\"id_moeda\"),\n",
				"    col(\"dat_carga\").alias(\"data_hora_id\"),  # já está no formato YYYYMMDDHH\n",
				"    col(\"preco_atual\"),\n",
				"    col(\"preco_maximo_24h\"),\n",
				"    col(\"preco_minimo_24h\"),\n",
				"    col(\"valor_mercado\"),\n",
				"    col(\"ranking_mercado\"),\n",
				"    col(\"volume_total\"),\n",
				"    col(\"variacao_preco_24h\"),\n",
				"    col(\"percentual_variacao_preco_24h\"),\n",
				"    col(\"variacao_valor_mercado_24h\"),\n",
				"    col(\"percentual_variacao_valor_mercado_24h\"),\n",
				"    col(\"valor_total_diluido\")\n",
				")\n",
				"\n",
				"# Escreve o DataFrame tratado no caminho S3\n",
				"df_fato_precos.write.mode(\"overwrite\").parquet(f\"s3://arquitetura-software-datalake/refined/coingecko/fato_precos/{now.year}/{now.month:02d}/{now.day:02d}/{now.hour:02d}/\")"
			]
		},
		{
			"cell_type": "markdown",
			"metadata": {},
			"source": [
				"# Criação da DM"
			]
		},
		{
			"cell_type": "code",
			"execution_count": 7,
			"metadata": {
				"tags": [],
				"trusted": true,
				"vscode": {
					"languageId": "python_glue_session"
				}
			},
			"outputs": [
				{
					"name": "stdout",
					"output_type": "stream",
					"text": [
						"\n"
					]
				}
			],
			"source": [
				"# Cria dimensão de moedas com dados estáticos/descritivos\n",
				"df_dim_moeda = df.select(\n",
				"    col(\"id_moeda\"),\n",
				"    col(\"simbolo\"),\n",
				"    col(\"nome\"),\n",
				"    col(\"fornecimento_total\"),\n",
				"    col(\"fornecimento_maximo\"),\n",
				"    col(\"circulacao\"),\n",
				"    col(\"preco_maximo_historico\"),\n",
				"    col(\"data_maximo_historico\"),\n",
				"    col(\"preco_minimo_historico\"),\n",
				"    col(\"data_minimo_historico\"),\n",
				"    col(\"variacao_desde_maximo\"),\n",
				"    col(\"variacao_desde_minimo\")\n",
				").dropDuplicates([\"id_moeda\"])\n",
				"\n",
				"# Escreve o DataFrame tratado no caminho S3\n",
				"df_dim_moeda.write.mode(\"overwrite\").parquet(f\"s3://arquitetura-software-datalake/refined/coingecko/dim_moeda/{now.year}/{now.month:02d}/{now.day:02d}/{now.hour:02d}/\")"
			]
		}
	],
	"metadata": {
		"kernelspec": {
			"display_name": "Glue PySpark",
			"language": "python",
			"name": "glue_pyspark"
		},
		"language_info": {
			"codemirror_mode": {
				"name": "python",
				"version": 3
			},
			"file_extension": ".py",
			"mimetype": "text/x-python",
			"name": "Python_Glue_Session",
			"pygments_lexer": "python3"
		}
	},
	"nbformat": 4,
	"nbformat_minor": 4
}
